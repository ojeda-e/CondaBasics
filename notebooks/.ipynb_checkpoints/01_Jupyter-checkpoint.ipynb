{
 "cells": [
  {
   "cell_type": "markdown",
   "metadata": {},
   "source": [
    "# 01 Jupyter Lab"
   ]
  },
  {
   "cell_type": "markdown",
   "metadata": {},
   "source": [
    "## The Launcher\n",
    "The launcher is the first thing you see, when you open JL for the first time. From the launcher you can:\n",
    "- choose a \"kernel\" for the Jupyter notebook.\n",
    "- start an interactive Python console.\n",
    "- open a Terminal.\n",
    "- start a new Markdown file.\n",
    "- open a window to show contextual help.\n",
    "\n",
    "<img src=\"../img/JL-launcher.jpg\" style=\"height: 400px;\"/>"
   ]
  },
  {
   "cell_type": "markdown",
   "metadata": {},
   "source": [
    "# Markdown\n",
    "\n",
    "Markdown is a lightweight markup language with plain-text-formatting syntax. Its design allows it to be converted to many output formats, but the original tool by the same name only supports HTML. Markdown is often used to format README.md files (hence the .md extention), for writing messages in online discussion forums, and to create rich text using a plain text editor. \n",
    "\n",
    "> **Note**: Since the initial description of Markdown contained ambiguities and unanswered questions, the implementations that appeared over the years have subtle differences and many come with syntax extensions.\n",
    "\n",
    "[Example](http://www.unexpected-vortices.com/sw/rippledoc/quick-markdown-example.html)"
   ]
  },
  {
   "cell_type": "markdown",
   "metadata": {},
   "source": [
    "---\n",
    "\n",
    "```markdown\n",
    "### This is an example\n",
    "\n",
    "Paragraphs are separated by a blank line.\n",
    "\n",
    "2nd paragraph. *Italic*, **bold**, and `monospace`. Itemized lists\n",
    "look like:\n",
    "\n",
    "  * this one\n",
    "  * that one\n",
    "  * the other one\n",
    "\n",
    "Note that --- not considering the asterisk --- the actual text\n",
    "content starts at 4-columns in.\n",
    "\n",
    "> Block quotes are\n",
    "> written like so.\n",
    ">\n",
    "> They can span multiple paragraphs,\n",
    "> if you like.\n",
    "\n",
    "Use 3 dashes for an em-dash. Use 2 dashes for ranges (ex., \"it's all\n",
    "in chapters 12--14\"). Three dots ... will be converted to an ellipsis.\n",
    "Unicode is supported. ☺\n",
    "```\n",
    "\n",
    "--- \n",
    "\n",
    "### This is an example\n",
    "\n",
    "Paragraphs are separated by a blank line.\n",
    "\n",
    "2nd paragraph. *Italic*, **bold**, and `monospace`. Itemized lists\n",
    "look like:\n",
    "\n",
    "  * this one\n",
    "  * that one\n",
    "  * the other one\n",
    "\n",
    "Note that --- not considering the asterisk --- the actual text\n",
    "content starts at 4-columns in.\n",
    "\n",
    "> Block quotes are\n",
    "> written like so.\n",
    ">\n",
    "> They can span multiple paragraphs,\n",
    "> if you like.\n",
    "\n",
    "Use 3 dashes for an em-dash. Use 2 dashes for ranges (ex., \"it's all\n",
    "in chapters 12--14\"). Three dots ... will be converted to an ellipsis.\n",
    "Unicode is supported. ☺"
   ]
  },
  {
   "cell_type": "markdown",
   "metadata": {},
   "source": [
    "### How to visualize an .md file on Jupyter\n",
    "\n",
    "On the left sidebar, select the md file, right click, and then click on `Markdown Preview`.\n",
    "\n",
    "<img src='../img/open_md.png' width=700>\n"
   ]
  },
  {
   "cell_type": "markdown",
   "metadata": {},
   "source": [
    "\n",
    "\n",
    "\n",
    "\n",
    "\n",
    "### Jupyter Notebooks\n",
    "\n",
    "Panel and its functions.\n",
    "\n",
    "<img src='../img/buttons+cells-jn.png' width =700>\n",
    "\n",
    "Here below two examples of cells using code and markdown, respectively:"
   ]
  },
  {
   "cell_type": "code",
   "execution_count": null,
   "metadata": {},
   "outputs": [],
   "source": [
    "# This is for code\n",
    "\n",
    "x = [1, 2, 3]"
   ]
  },
  {
   "cell_type": "markdown",
   "metadata": {},
   "source": [
    "# This is for markdown\n",
    "\n",
    "Markdown is mainly used for documentation."
   ]
  },
  {
   "cell_type": "markdown",
   "metadata": {},
   "source": [
    "---\n",
    "#### Some useful shortcuts:\n",
    "\n",
    "- `shift` + `enter` :  run cell, select below.\n",
    "- `ctrl` + `enter`:  run cell.\n",
    "- `option` + `enter`: run cell, insert below.\n",
    "- `a`: insert cell above.\n",
    "- `b`: insert cell below.\n",
    "- `c`: copy cell.\n",
    "- `v`: paste cell.\n",
    "- `d`: delete selected cell.\n",
    "- `shift` + M merge selected cells, or current cell with cell below if only one cell selected.\n",
    "- `i`: interrupt kernel\n",
    "- `0`: restart kernel (with dialog).\n",
    "- `y`: change cell to code mode.\n",
    "- `m`: change cell to markdown mode.\n",
    "\n",
    "\n",
    "\n",
    "---"
   ]
  },
  {
   "cell_type": "markdown",
   "metadata": {},
   "source": [
    "### Contextual help \n",
    "\n",
    "You can pop it up by `ctrl` + `i`, or on the Launcher, select at `contextual help` in the options displayed at the bottom.\n",
    "\n",
    "Contextual help offers documentation (docstrings) of the commands you type in a cell. \n",
    "\n",
    "Try it yourself. What is np.arange?"
   ]
  },
  {
   "cell_type": "code",
   "execution_count": 6,
   "metadata": {},
   "outputs": [],
   "source": [
    "import numpy as np\n",
    "np.arange()"
   ]
  }
 ],
 "metadata": {
  "kernelspec": {
   "display_name": "Python 3",
   "language": "python",
   "name": "python3"
  },
  "language_info": {
   "codemirror_mode": {
    "name": "ipython",
    "version": 3
   },
   "file_extension": ".py",
   "mimetype": "text/x-python",
   "name": "python",
   "nbconvert_exporter": "python",
   "pygments_lexer": "ipython3",
   "version": "3.7.4"
  }
 },
 "nbformat": 4,
 "nbformat_minor": 4
}
