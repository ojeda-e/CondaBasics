{
 "cells": [
  {
   "cell_type": "markdown",
   "metadata": {},
   "source": [
    "# 03 GitHub\n",
    "\n",
    "## 3.1 Creating a new repository on GitHub\n",
    "\n",
    "Go to [https://github.com/new](https://github.com/new) and create a new repository called `new_repo`. Check the box `Initialize this repository with a README` and finally click on `create repository`.\n",
    "\n",
    "<img src='../img/GitHub_new.png' width=500>\n",
    "\n",
    "You just created a online code base. You could do changes to it online, but more conveniently you would create a local copy of that repository, make the changes, test everything and finally push the updated version to the online repository. "
   ]
  },
  {
   "cell_type": "markdown",
   "metadata": {},
   "source": [
    "## 3.2 Creating a local copy of a GitHub repository\n",
    "Now, you can clone the repository, meaning that you create a copy of online repository at your current location i.e. your computer. \n",
    "\n",
    "After creating the new repository, a link will be shown. Copy that link to copy to your computer via terminal:\n",
    "\n",
    "<img src='../img/GitHub_copylink.png' width=500>\n",
    "\n",
    "Now, go to the terminal and type:\n",
    "\n",
    "    git clone https://github.com/<your_username>/new_repo.git\n",
    "\n",
    "    cd new_repo\n",
    "    \n",
    "    ls  # dir on windows\n",
    "\n",
    "Your local copy of the repository is now linked to the online version. "
   ]
  },
  {
   "cell_type": "markdown",
   "metadata": {},
   "source": [
    "## 3.3 Git Commands"
   ]
  },
  {
   "cell_type": "markdown",
   "metadata": {},
   "source": [
    "### Git status\n",
    "\n",
    "this command displays the state of the working directory (or repository). It shows you see which changes have been staged, which haven't, and which files aren't being tracked by Git. However, `status` output does not show you any information regarding the committed project history."
   ]
  },
  {
   "cell_type": "code",
   "execution_count": 4,
   "metadata": {},
   "outputs": [
    {
     "name": "stdout",
     "output_type": "stream",
     "text": [
      "On branch master\n",
      "Your branch is up to date with 'origin/master'.\n",
      "\n",
      "Untracked files:\n",
      "  (use \"git add <file>...\" to include in what will be committed)\n",
      "\t\u001b[31m../img/\u001b[m\n",
      "\t\u001b[31m./\u001b[m\n",
      "\n",
      "nothing added to commit but untracked files present (use \"git add\" to track)\n"
     ]
    }
   ],
   "source": [
    "! git status"
   ]
  },
  {
   "cell_type": "markdown",
   "metadata": {},
   "source": [
    "Let's change the text in the `README.md` file:"
   ]
  },
  {
   "cell_type": "code",
   "execution_count": 15,
   "metadata": {},
   "outputs": [],
   "source": [
    "! echo '# This is my test repository!!!' > README.md"
   ]
  },
  {
   "cell_type": "code",
   "execution_count": null,
   "metadata": {},
   "outputs": [],
   "source": [
    "! git status"
   ]
  },
  {
   "cell_type": "markdown",
   "metadata": {},
   "source": [
    "You can also open the file with a text editor to change it. To see what is different in your local repository you can use \n",
    "\n",
    "    git status\n",
    "    > On branch master\n",
    "    > Your branch is up-to-date with 'origin/master'.\n",
    "    > Changes not staged for commit:\n",
    "    > (use \"git add <file>...\" to update what will be committed)\n",
    "    > (use \"git checkout -- <file>...\" to discard changes in working directory)\n",
    "    >\n",
    "    >    modified:   README.md\n",
    "\n",
    "This indicates with files have been changed and possibly untracked files as well."
   ]
  },
  {
   "cell_type": "markdown",
   "metadata": {},
   "source": [
    "### Adding a change\n",
    "\n",
    "The `git add` command adds a change in the working directory to the staging area. It tells Git that you want to include updates to a particular file in the next commit."
   ]
  },
  {
   "cell_type": "code",
   "execution_count": 11,
   "metadata": {},
   "outputs": [],
   "source": [
    "! git add README.md"
   ]
  },
  {
   "cell_type": "markdown",
   "metadata": {},
   "source": [
    "### Commiting a change\n",
    "Now that you have changed the file you want to push the changes to the online repository. First you need to create a new commit containing the current contents of the index and the given log message describing the changes.\n",
    "\n",
    "    git commit -am \"Readme file updated\"\n",
    "    > [master 6a5a439] Readme file updated\n",
    "    >  1 file changed, 1 insertion(+), 1 deletion(-)\n",
    "\n",
    "Now, you are ready to push the changes back to the online repository. \n",
    "\n",
    "    git push\n",
    "    > Counting objects: 3, done.\n",
    "    > Writing objects: 100% (3/3), 274 bytes | 0 bytes/s, done.\n",
    "    > Total 3 (delta 0), reused 0 (delta 0)\n",
    "    > To git@github.com:soerendip/test.git\n",
    "       b4ce616..6a5a439  master -> master\n",
    "\n",
    "Go back to GitHub and update the web-page. The page should now contain your changes. Git will ask you for your username and password unless you create an SSH key and store it on GitHub.\n"
   ]
  },
  {
   "cell_type": "code",
   "execution_count": null,
   "metadata": {},
   "outputs": [],
   "source": [
    "! git commit -am \"This is a change\""
   ]
  },
  {
   "cell_type": "markdown",
   "metadata": {},
   "source": [
    "### Pushing a change."
   ]
  },
  {
   "cell_type": "code",
   "execution_count": null,
   "metadata": {},
   "outputs": [],
   "source": [
    "To store your changes on GitHub, use the `git push` command."
   ]
  },
  {
   "cell_type": "code",
   "execution_count": 14,
   "metadata": {},
   "outputs": [
    {
     "name": "stdout",
     "output_type": "stream",
     "text": [
      "Everything up-to-date\n"
     ]
    }
   ],
   "source": [
    "! git push"
   ]
  },
  {
   "cell_type": "markdown",
   "metadata": {},
   "source": [
    "An output message that includes the branch where you pushed the changes will be displayed."
   ]
  }
 ],
 "metadata": {
  "kernelspec": {
   "display_name": "Python 3",
   "language": "python",
   "name": "python3"
  },
  "language_info": {
   "codemirror_mode": {
    "name": "ipython",
    "version": 3
   },
   "file_extension": ".py",
   "mimetype": "text/x-python",
   "name": "python",
   "nbconvert_exporter": "python",
   "pygments_lexer": "ipython3",
   "version": "3.7.4"
  }
 },
 "nbformat": 4,
 "nbformat_minor": 4
}
