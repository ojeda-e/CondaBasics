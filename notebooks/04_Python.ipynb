{
 "cells": [
  {
   "cell_type": "markdown",
   "metadata": {},
   "source": [
    "# 04 Python"
   ]
  },
  {
   "cell_type": "code",
   "execution_count": null,
   "metadata": {},
   "outputs": [],
   "source": [
    "import numpy as np\n",
    "\n",
    "x = [1, 2, 3]\n",
    "y = [4, 5, 6]\n",
    "\n",
    "x+y"
   ]
  },
  {
   "cell_type": "code",
   "execution_count": 20,
   "metadata": {},
   "outputs": [
    {
     "data": {
      "text/plain": [
       "list"
      ]
     },
     "execution_count": 20,
     "metadata": {},
     "output_type": "execute_result"
    }
   ],
   "source": [
    "type(x)"
   ]
  },
  {
   "cell_type": "code",
   "execution_count": 18,
   "metadata": {},
   "outputs": [
    {
     "data": {
      "text/plain": [
       "array([1, 2, 3])"
      ]
     },
     "execution_count": 18,
     "metadata": {},
     "output_type": "execute_result"
    }
   ],
   "source": [
    "xa = np.array(x)\n",
    "xa"
   ]
  },
  {
   "cell_type": "code",
   "execution_count": 19,
   "metadata": {},
   "outputs": [
    {
     "data": {
      "text/plain": [
       "numpy.ndarray"
      ]
     },
     "execution_count": 19,
     "metadata": {},
     "output_type": "execute_result"
    }
   ],
   "source": [
    "type(xa)"
   ]
  },
  {
   "cell_type": "markdown",
   "metadata": {},
   "source": [
    "### Iterations: `For` loops"
   ]
  },
  {
   "cell_type": "code",
   "execution_count": null,
   "metadata": {},
   "outputs": [],
   "source": [
    "for element in x:\n",
    "    print(x)"
   ]
  },
  {
   "cell_type": "code",
   "execution_count": null,
   "metadata": {},
   "outputs": [],
   "source": [
    "for element in y:\n",
    "    print(y)"
   ]
  },
  {
   "cell_type": "markdown",
   "metadata": {},
   "source": [
    "- Example:\n",
    "\n",
    "For each element of the list, sum the same number:"
   ]
  },
  {
   "cell_type": "code",
   "execution_count": 16,
   "metadata": {},
   "outputs": [
    {
     "name": "stdout",
     "output_type": "stream",
     "text": [
      "0 sum= 1\n",
      "1 sum= 2\n",
      "2 sum= 3\n",
      "3 sum= 4\n",
      "4 sum= 5\n",
      "5 sum= 6\n",
      "6 sum= 7\n",
      "7 sum= 8\n",
      "8 sum= 9\n",
      "9 sum= 10\n"
     ]
    }
   ],
   "source": [
    "for i in range(10):\n",
    "    print(i, 'sum=', i+1)"
   ]
  },
  {
   "cell_type": "markdown",
   "metadata": {},
   "source": [
    "---\n",
    "A list can contain different types:"
   ]
  },
  {
   "cell_type": "code",
   "execution_count": 21,
   "metadata": {},
   "outputs": [],
   "source": [
    "new_list = ['word', 15, 3.1416, 1.0]"
   ]
  },
  {
   "cell_type": "code",
   "execution_count": 23,
   "metadata": {},
   "outputs": [
    {
     "name": "stdout",
     "output_type": "stream",
     "text": [
      "<class 'str'>\n",
      "<class 'int'>\n",
      "<class 'float'>\n",
      "<class 'float'>\n"
     ]
    }
   ],
   "source": [
    "for i in new_list:\n",
    "    print(type(i))"
   ]
  },
  {
   "cell_type": "code",
   "execution_count": 7,
   "metadata": {},
   "outputs": [
    {
     "name": "stdout",
     "output_type": "stream",
     "text": [
      "It does something\n"
     ]
    },
    {
     "data": {
      "text/plain": [
       "1"
      ]
     },
     "execution_count": 7,
     "metadata": {},
     "output_type": "execute_result"
    }
   ],
   "source": [
    "def function(arguments=0):\n",
    "    value = 1 \n",
    "    print('It does something')\n",
    "    \n",
    "    return value\n",
    "\n",
    "function()"
   ]
  },
  {
   "cell_type": "markdown",
   "metadata": {},
   "source": [
    "# Exercices"
   ]
  },
  {
   "cell_type": "markdown",
   "metadata": {},
   "source": [
    "## Ex1\n",
    "Following is a function which computes Euclidean Distance in two dimensions.\n",
    "Why there's no output? How to fix this?"
   ]
  },
  {
   "cell_type": "code",
   "execution_count": 8,
   "metadata": {},
   "outputs": [
    {
     "name": "stdout",
     "output_type": "stream",
     "text": [
      "None\n"
     ]
    }
   ],
   "source": [
    "def euclideanDistance2D(x1, y1, x2, y2):\n",
    "    distance = (x2 - x1) ** 2 + (y2 - y1) ** 2\n",
    "    distance = distance ** 0.5\n",
    "    \n",
    "    return distance\n",
    "    \n",
    "output = euclideanDistance2D(1, 1, 4, 4)\n",
    "print(output)"
   ]
  },
  {
   "cell_type": "markdown",
   "metadata": {},
   "source": [
    "## Ex2\n",
    "Given a list of random numbers between 0 and 100, creat a function to creat a new list which keep only numbers less than 50.\n",
    "Use list comprehension."
   ]
  },
  {
   "cell_type": "code",
   "execution_count": null,
   "metadata": {},
   "outputs": [],
   "source": [
    "from numpy import random\n",
    "\n",
    "L = random.randint(100, size=(50))\n",
    "print(L)\n",
    "\n",
    "newList = [ i for i in L if i < 50]\n",
    "print(newList)"
   ]
  },
  {
   "cell_type": "markdown",
   "metadata": {},
   "source": [
    "## Ex3\n",
    "Here we have a list of temperature in F°. Write a function to convert every element of the list to C°.\n",
    "Knowing the relation to convert F° to C° is:\n",
    "```\n",
    "C = (F - 32) / 1.8\n",
    "```"
   ]
  },
  {
   "cell_type": "code",
   "execution_count": null,
   "metadata": {},
   "outputs": [],
   "source": [
    "tempList = random.randint(60, size=(50))\n",
    "print(tempList)\n",
    "\n",
    "print(FahrenheitToCelcius(tempList))"
   ]
  },
  {
   "cell_type": "markdown",
   "metadata": {},
   "source": [
    "## Ex4\n",
    "All classes have a function called `__init__()`, which is always executed when the class is being initiated.\n",
    "We use the `__init__()` function to assign values to object properties, or other operations that are necessary to do when the object is being created:"
   ]
  },
  {
   "cell_type": "code",
   "execution_count": null,
   "metadata": {},
   "outputs": [],
   "source": [
    "class student():\n",
    "    def __init__(self, ID, name):\n",
    "        self.ucid = ID\n",
    "        self.name = name\n",
    "        \n",
    "newStudent = student(200002, 'Soren')\n",
    "print(newStudent.ucid)\n",
    "print(newStudent.name)\n",
    "\n",
    "newStudent.name = 'William'\n",
    "print(newStudent.name)"
   ]
  },
  {
   "cell_type": "markdown",
   "metadata": {},
   "source": [
    "In practice, it's not recommended to access and modify object's attributes.\n",
    "We should use *getter* and *setter* instead because you are not suppose to know the underlying organization of attributes.\n",
    "They are two type of methods which are designed to get the attributes or modify the attributes of a given object.\n",
    "Below is an example of a getter which gives the department of the professor.\n",
    "Add a setter to the class to modify the department attribute."
   ]
  },
  {
   "cell_type": "code",
   "execution_count": null,
   "metadata": {},
   "outputs": [],
   "source": []
  },
  {
   "cell_type": "code",
   "execution_count": null,
   "metadata": {},
   "outputs": [],
   "source": [
    "class prof():\n",
    "    def __init__(self, name, department):\n",
    "        self.name = name\n",
    "        self.department = department\n",
    "    \n",
    "    def get_dept(self):\n",
    "        return self.department\n",
    "        \n",
    "myProf = prof('Estefania', 'Biology')\n",
    "print(myProf.get_dept())\n",
    "#print(myProf.set_dept('Physics'))\n",
    "#print(myProf.get_dept())"
   ]
  }
 ],
 "metadata": {
  "kernelspec": {
   "display_name": "Python 3",
   "language": "python",
   "name": "python3"
  },
  "language_info": {
   "codemirror_mode": {
    "name": "ipython",
    "version": 3
   },
   "file_extension": ".py",
   "mimetype": "text/x-python",
   "name": "python",
   "nbconvert_exporter": "python",
   "pygments_lexer": "ipython3",
   "version": "3.7.4"
  }
 },
 "nbformat": 4,
 "nbformat_minor": 4
}
