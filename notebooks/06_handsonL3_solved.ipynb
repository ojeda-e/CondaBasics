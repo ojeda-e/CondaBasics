{
 "cells": [
  {
   "cell_type": "markdown",
   "metadata": {},
   "source": [
    "# Hands on"
   ]
  },
  {
   "cell_type": "code",
   "execution_count": 6,
   "metadata": {},
   "outputs": [
    {
     "name": "stdout",
     "output_type": "stream",
     "text": [
      "Populating the interactive namespace from numpy and matplotlib\n"
     ]
    }
   ],
   "source": [
    "%pylab inline\n",
    "import pandas as pd\n",
    "import os\n",
    "import seaborn as sns\n",
    "from sklearn.preprocessing import StandardScaler"
   ]
  },
  {
   "cell_type": "markdown",
   "metadata": {},
   "source": [
    "## Download the dataset"
   ]
  },
  {
   "cell_type": "code",
   "execution_count": 4,
   "metadata": {},
   "outputs": [],
   "source": [
    "# ! conda install -n MLPB wget\n",
    "# wget https://doi.org/10.1371/journal.pone.0183228.s006 -O Metabolite_patterns_predicting_sex_and_age.xlsx\n",
    "# ! mkdir ../input\n",
    "#! mv Metabolite_patterns_predicting_sex_and_age.xlsx ../input"
   ]
  },
  {
   "cell_type": "markdown",
   "metadata": {},
   "source": [
    "## Load the data into memory"
   ]
  },
  {
   "cell_type": "code",
   "execution_count": 11,
   "metadata": {},
   "outputs": [],
   "source": [
    "filename = '../input/Metabolite_patterns_predicting_sex_and_age.xlsx'"
   ]
  },
  {
   "cell_type": "code",
   "execution_count": 14,
   "metadata": {},
   "outputs": [],
   "source": [
    "Y = pd.read_excel(filename, usecols=[0,1,2], skiprows=[0,1,2,3,5], skipfooter=7).age.values\n",
    "Y"
   ]
  },
  {
   "cell_type": "code",
   "execution_count": 15,
   "metadata": {},
   "outputs": [],
   "source": [
    "X = pd.read_excel(filename, header=3, skipfooter=7, usecols=range(4,441), skiprows=[4,5])\n",
    "X"
   ]
  },
  {
   "cell_type": "markdown",
   "metadata": {},
   "source": [
    "# EDA\n",
    "Spend a few minutes on getting familiar with the dataset."
   ]
  },
  {
   "cell_type": "code",
   "execution_count": null,
   "metadata": {},
   "outputs": [],
   "source": [
    "X.info"
   ]
  },
  {
   "cell_type": "code",
   "execution_count": null,
   "metadata": {},
   "outputs": [],
   "source": [
    "X.types"
   ]
  },
  {
   "cell_type": "code",
   "execution_count": null,
   "metadata": {},
   "outputs": [],
   "source": [
    "X.mean()"
   ]
  },
  {
   "cell_type": "code",
   "execution_count": null,
   "metadata": {},
   "outputs": [],
   "source": [
    "X.std()"
   ]
  },
  {
   "cell_type": "code",
   "execution_count": 24,
   "metadata": {},
   "outputs": [
    {
     "data": {
      "text/plain": [
       "Carnitine                  True\n",
       "Betaine                    True\n",
       "Choline                    True\n",
       "Dimethyl-glycine           True\n",
       "Sarcosine                  True\n",
       "                           ... \n",
       "eicosadienoic acid         True\n",
       "dihomo-γ-linolenic acid    True\n",
       "behenic acid               True\n",
       "arachidonic acid           True\n",
       "eicosapentaenoic acid      True\n",
       "Length: 437, dtype: bool"
      ]
     },
     "execution_count": 24,
     "metadata": {},
     "output_type": "execute_result"
    }
   ],
   "source": [
    "X.isnull().any()"
   ]
  },
  {
   "cell_type": "code",
   "execution_count": 30,
   "metadata": {},
   "outputs": [
    {
     "data": {
      "text/plain": [
       "Carnitine                  True\n",
       "Betaine                    True\n",
       "Choline                    True\n",
       "Dimethyl-glycine           True\n",
       "Sarcosine                  True\n",
       "                           ... \n",
       "eicosadienoic acid         True\n",
       "dihomo-γ-linolenic acid    True\n",
       "behenic acid               True\n",
       "arachidonic acid           True\n",
       "eicosapentaenoic acid      True\n",
       "Length: 437, dtype: bool"
      ]
     },
     "execution_count": 30,
     "metadata": {},
     "output_type": "execute_result"
    }
   ],
   "source": [
    "X.fillna(0)\n",
    "X.isna().any()"
   ]
  },
  {
   "cell_type": "markdown",
   "metadata": {},
   "source": [
    "## Plot histograms\n",
    "\n",
    "### Option 1"
   ]
  },
  {
   "cell_type": "code",
   "execution_count": null,
   "metadata": {},
   "outputs": [],
   "source": [
    "hist(Y, bins=20)\n",
    "title('Histogram of the target value $y$')\n",
    "ylabel('Count')\n",
    "grid()"
   ]
  },
  {
   "cell_type": "markdown",
   "metadata": {},
   "source": [
    "### Option 2"
   ]
  },
  {
   "cell_type": "code",
   "execution_count": null,
   "metadata": {},
   "outputs": [],
   "source": [
    "sns.distplot(Y)"
   ]
  },
  {
   "cell_type": "code",
   "execution_count": null,
   "metadata": {},
   "outputs": [],
   "source": [
    "fig, axes = subplots(6,5, figsize=(10,4), sharey=True)\n",
    "axes = axes.flatten()\n",
    "\n",
    "df = X.copy()\n",
    "df['y'] = Y\n",
    "\n",
    "for i, col in enumerate(column_names):\n",
    "    sns.scatterplot(col, 'y', ax=axes[i], data=df, s=10)\n",
    "    \n",
    "suptitle('Relationship of features with $y$', y=1.03)"
   ]
  },
  {
   "cell_type": "code",
   "execution_count": null,
   "metadata": {},
   "outputs": [],
   "source": []
  },
  {
   "cell_type": "markdown",
   "metadata": {},
   "source": [
    "#### Replace the missing values in X with the column-wise median"
   ]
  },
  {
   "cell_type": "code",
   "execution_count": null,
   "metadata": {},
   "outputs": [],
   "source": [
    "X.isnull().any()"
   ]
  },
  {
   "cell_type": "code",
   "execution_count": null,
   "metadata": {},
   "outputs": [],
   "source": [
    "X.isnull().sum()"
   ]
  },
  {
   "cell_type": "markdown",
   "metadata": {},
   "source": [
    "Replace values with median"
   ]
  },
  {
   "cell_type": "code",
   "execution_count": null,
   "metadata": {},
   "outputs": [],
   "source": [
    "X = X.fillna(X.median())"
   ]
  },
  {
   "cell_type": "markdown",
   "metadata": {},
   "source": [
    "Check values are replaced:"
   ]
  },
  {
   "cell_type": "code",
   "execution_count": null,
   "metadata": {},
   "outputs": [],
   "source": [
    "X.isnull().any()"
   ]
  },
  {
   "cell_type": "code",
   "execution_count": null,
   "metadata": {},
   "outputs": [],
   "source": []
  },
  {
   "cell_type": "code",
   "execution_count": null,
   "metadata": {},
   "outputs": [],
   "source": []
  },
  {
   "cell_type": "markdown",
   "metadata": {},
   "source": [
    "#### Scale the features in X so that the column-wise mean is 0 and the standard deviation is 1.\n",
    "Use scikit-learn `StandardScaler()` for this with the code given below."
   ]
  },
  {
   "cell_type": "code",
   "execution_count": 233,
   "metadata": {},
   "outputs": [],
   "source": [
    "X.loc[:, :] = StandardScaler().fit_transform(X)"
   ]
  },
  {
   "cell_type": "markdown",
   "metadata": {},
   "source": [
    "#### Validate that the scaling worked."
   ]
  },
  {
   "cell_type": "code",
   "execution_count": null,
   "metadata": {},
   "outputs": [],
   "source": [
    "X.std()"
   ]
  },
  {
   "cell_type": "code",
   "execution_count": null,
   "metadata": {},
   "outputs": [],
   "source": [
    "X.mean()"
   ]
  },
  {
   "cell_type": "code",
   "execution_count": null,
   "metadata": {},
   "outputs": [],
   "source": [
    "sns.boxplot(data=X.mean())\n",
    "xlabel('Mean')\n",
    "ylabel('Value')"
   ]
  },
  {
   "cell_type": "markdown",
   "metadata": {},
   "source": [
    "### Train a Linear Model using a train-test split of 0.8 / 0.2"
   ]
  },
  {
   "cell_type": "code",
   "execution_count": 43,
   "metadata": {},
   "outputs": [],
   "source": [
    "from sklearn.linear_model import LinearRegression\n",
    "from sklearn.model_selection import train_test_split\n",
    "from sklearn.metrics import mean_squared_error"
   ]
  },
  {
   "cell_type": "code",
   "execution_count": 44,
   "metadata": {},
   "outputs": [
    {
     "name": "stdout",
     "output_type": "stream",
     "text": [
      "X_train: (240, 437) y_train: (240,)\n",
      "X_test:  (61, 437) y_test:  (61,)\n"
     ]
    }
   ],
   "source": [
    "X_train, X_test, y_train, y_test = train_test_split(X, Y, test_size=.20, random_state=23463)\n",
    "\n",
    "# print the shape of each one of the np.arrays \n",
    "print(f'X_train: {X_train.shape} y_train: {y_train.shape}')  # training subsets\n",
    "print(f'X_test:  {X_test.shape} y_test:  {y_test.shape}')   # test subsets"
   ]
  },
  {
   "cell_type": "code",
   "execution_count": 45,
   "metadata": {},
   "outputs": [],
   "source": [
    "model = LinearRegression()"
   ]
  },
  {
   "cell_type": "code",
   "execution_count": 46,
   "metadata": {},
   "outputs": [],
   "source": [
    "# Train the model using the training sets\n",
    "model=model.fit(X_train, y_train)"
   ]
  },
  {
   "cell_type": "markdown",
   "metadata": {},
   "source": [
    "#### Plot the prediction over the true values for the test set"
   ]
  },
  {
   "cell_type": "code",
   "execution_count": null,
   "metadata": {},
   "outputs": [],
   "source": [
    "# Make predictions using the testing set\n",
    "y_predict = model.predict(X_test)\n",
    "y_predict"
   ]
  },
  {
   "cell_type": "code",
   "execution_count": null,
   "metadata": {},
   "outputs": [],
   "source": [
    "figure(figsize=(5,5))\n",
    "\n",
    "scatter(y_test, model.predict(X_test), label='Test')\n",
    "\n",
    "title('Linear Regression')\n",
    "xlabel('True')\n",
    "ylabel('Prediction')"
   ]
  },
  {
   "cell_type": "code",
   "execution_count": 51,
   "metadata": {},
   "outputs": [],
   "source": [
    "# Define rmse\n",
    "def rmse(true, pred):\n",
    "    return sqrt(mean_squared_error(true, pred))"
   ]
  },
  {
   "cell_type": "code",
   "execution_count": 52,
   "metadata": {},
   "outputs": [
    {
     "name": "stdout",
     "output_type": "stream",
     "text": [
      "Train score:     1.00\n",
      "Test score:     -4.38\n",
      "Test RMSE: 37.99\n"
     ]
    }
   ],
   "source": [
    "# Score \n",
    "train_score = model.score(X_train, y_train)\n",
    "test_score = model.score(X_test, y_test)\n",
    "\n",
    "print(f'Train score: {train_score:8.2f}\\nTest score:  {test_score:8.2f}')\n",
    "print('Test RMSE: {:2.2f}'.format(rmse(y_test, y_predict)))"
   ]
  },
  {
   "cell_type": "markdown",
   "metadata": {},
   "source": [
    "### Train a Lasso model and vary the regularization paramter $\\alpha$ from 0 to 5"
   ]
  },
  {
   "cell_type": "code",
   "execution_count": 63,
   "metadata": {},
   "outputs": [],
   "source": [
    "from sklearn.linear_model import Lasso\n",
    "\n"
   ]
  },
  {
   "cell_type": "code",
   "execution_count": null,
   "metadata": {},
   "outputs": [],
   "source": [
    "\n",
    "\n",
    "    "
   ]
  },
  {
   "cell_type": "markdown",
   "metadata": {},
   "source": [
    "#### Plot the model scores over alphas"
   ]
  },
  {
   "cell_type": "code",
   "execution_count": null,
   "metadata": {},
   "outputs": [],
   "source": []
  },
  {
   "cell_type": "markdown",
   "metadata": {},
   "source": [
    "#### Retrain a model with the best value for $\\alpha$"
   ]
  },
  {
   "cell_type": "code",
   "execution_count": null,
   "metadata": {},
   "outputs": [],
   "source": []
  },
  {
   "cell_type": "code",
   "execution_count": null,
   "metadata": {},
   "outputs": [],
   "source": []
  },
  {
   "cell_type": "code",
   "execution_count": null,
   "metadata": {},
   "outputs": [],
   "source": []
  },
  {
   "cell_type": "code",
   "execution_count": null,
   "metadata": {},
   "outputs": [],
   "source": []
  },
  {
   "cell_type": "markdown",
   "metadata": {},
   "source": [
    "#### Create a dataset from non-zero features and add the values for age\n",
    "Which featurs are most important to predict the age?"
   ]
  },
  {
   "cell_type": "code",
   "execution_count": 65,
   "metadata": {},
   "outputs": [],
   "source": [
    "df_reduced = X.loc[:, model.coef_ > 0].copy()\n",
    "df_reduced['age'] = Y"
   ]
  },
  {
   "cell_type": "code",
   "execution_count": 66,
   "metadata": {},
   "outputs": [
    {
     "data": {
      "text/html": [
       "<div>\n",
       "<style scoped>\n",
       "    .dataframe tbody tr th:only-of-type {\n",
       "        vertical-align: middle;\n",
       "    }\n",
       "\n",
       "    .dataframe tbody tr th {\n",
       "        vertical-align: top;\n",
       "    }\n",
       "\n",
       "    .dataframe thead th {\n",
       "        text-align: right;\n",
       "    }\n",
       "</style>\n",
       "<table border=\"1\" class=\"dataframe\">\n",
       "  <thead>\n",
       "    <tr style=\"text-align: right;\">\n",
       "      <th></th>\n",
       "      <th>Carnitine</th>\n",
       "      <th>Betaine</th>\n",
       "      <th>Choline</th>\n",
       "      <th>Trimethyl-amine-N-oxide</th>\n",
       "      <th>Octadecenoyl-carnitine</th>\n",
       "      <th>Acetyl-carnitine</th>\n",
       "      <th>Arginine</th>\n",
       "      <th>Asparagine</th>\n",
       "      <th>Isoleucine</th>\n",
       "      <th>Leucine</th>\n",
       "      <th>...</th>\n",
       "      <th>penta-decylic acid</th>\n",
       "      <th>palmitic acid</th>\n",
       "      <th>branched chain fatty acid</th>\n",
       "      <th>stearic acid</th>\n",
       "      <th>vaccenic acid</th>\n",
       "      <th>oleic acid</th>\n",
       "      <th>arachidic acid</th>\n",
       "      <th>linolenic acid</th>\n",
       "      <th>eicosadienoic acid</th>\n",
       "      <th>age</th>\n",
       "    </tr>\n",
       "  </thead>\n",
       "  <tbody>\n",
       "    <tr>\n",
       "      <td>0</td>\n",
       "      <td>35.23</td>\n",
       "      <td>40.50</td>\n",
       "      <td>9.33</td>\n",
       "      <td>2.71</td>\n",
       "      <td>0.086949</td>\n",
       "      <td>6.701261</td>\n",
       "      <td>110.059331</td>\n",
       "      <td>44.344423</td>\n",
       "      <td>72.906977</td>\n",
       "      <td>140.448000</td>\n",
       "      <td>...</td>\n",
       "      <td>3.784336</td>\n",
       "      <td>746.542709</td>\n",
       "      <td>2.387500</td>\n",
       "      <td>200.014929</td>\n",
       "      <td>1.385931</td>\n",
       "      <td>583.399009</td>\n",
       "      <td>1.018861</td>\n",
       "      <td>12.976936</td>\n",
       "      <td>6.425830</td>\n",
       "      <td>66.368241</td>\n",
       "    </tr>\n",
       "    <tr>\n",
       "      <td>1</td>\n",
       "      <td>35.91</td>\n",
       "      <td>46.89</td>\n",
       "      <td>10.46</td>\n",
       "      <td>2.31</td>\n",
       "      <td>0.098029</td>\n",
       "      <td>5.273254</td>\n",
       "      <td>85.136194</td>\n",
       "      <td>56.696517</td>\n",
       "      <td>99.340596</td>\n",
       "      <td>225.818182</td>\n",
       "      <td>...</td>\n",
       "      <td>3.493915</td>\n",
       "      <td>671.912343</td>\n",
       "      <td>2.466334</td>\n",
       "      <td>187.478587</td>\n",
       "      <td>2.176561</td>\n",
       "      <td>671.346575</td>\n",
       "      <td>0.568165</td>\n",
       "      <td>14.886331</td>\n",
       "      <td>5.326137</td>\n",
       "      <td>23.644875</td>\n",
       "    </tr>\n",
       "    <tr>\n",
       "      <td>2</td>\n",
       "      <td>48.71</td>\n",
       "      <td>28.48</td>\n",
       "      <td>11.26</td>\n",
       "      <td>13.98</td>\n",
       "      <td>0.080647</td>\n",
       "      <td>8.379945</td>\n",
       "      <td>94.925373</td>\n",
       "      <td>42.577114</td>\n",
       "      <td>93.979358</td>\n",
       "      <td>176.727273</td>\n",
       "      <td>...</td>\n",
       "      <td>4.557437</td>\n",
       "      <td>460.166794</td>\n",
       "      <td>2.179470</td>\n",
       "      <td>138.323814</td>\n",
       "      <td>2.830302</td>\n",
       "      <td>437.770058</td>\n",
       "      <td>0.812510</td>\n",
       "      <td>9.174221</td>\n",
       "      <td>3.232012</td>\n",
       "      <td>50.986995</td>\n",
       "    </tr>\n",
       "    <tr>\n",
       "      <td>3</td>\n",
       "      <td>27.14</td>\n",
       "      <td>42.01</td>\n",
       "      <td>9.26</td>\n",
       "      <td>3.72</td>\n",
       "      <td>0.059488</td>\n",
       "      <td>3.251767</td>\n",
       "      <td>57.944030</td>\n",
       "      <td>47.064677</td>\n",
       "      <td>83.362003</td>\n",
       "      <td>149.454545</td>\n",
       "      <td>...</td>\n",
       "      <td>3.522936</td>\n",
       "      <td>490.388798</td>\n",
       "      <td>2.782658</td>\n",
       "      <td>159.723622</td>\n",
       "      <td>1.442222</td>\n",
       "      <td>615.448008</td>\n",
       "      <td>0.050000</td>\n",
       "      <td>11.952802</td>\n",
       "      <td>4.963583</td>\n",
       "      <td>23.368375</td>\n",
       "    </tr>\n",
       "    <tr>\n",
       "      <td>4</td>\n",
       "      <td>33.28</td>\n",
       "      <td>35.71</td>\n",
       "      <td>9.38</td>\n",
       "      <td>3.57</td>\n",
       "      <td>0.119423</td>\n",
       "      <td>6.518342</td>\n",
       "      <td>83.443980</td>\n",
       "      <td>45.204211</td>\n",
       "      <td>93.180031</td>\n",
       "      <td>162.937500</td>\n",
       "      <td>...</td>\n",
       "      <td>13.508227</td>\n",
       "      <td>797.088857</td>\n",
       "      <td>8.367614</td>\n",
       "      <td>257.335178</td>\n",
       "      <td>13.244077</td>\n",
       "      <td>700.451721</td>\n",
       "      <td>1.179900</td>\n",
       "      <td>16.980451</td>\n",
       "      <td>6.281183</td>\n",
       "      <td>57.310078</td>\n",
       "    </tr>\n",
       "    <tr>\n",
       "      <td>...</td>\n",
       "      <td>...</td>\n",
       "      <td>...</td>\n",
       "      <td>...</td>\n",
       "      <td>...</td>\n",
       "      <td>...</td>\n",
       "      <td>...</td>\n",
       "      <td>...</td>\n",
       "      <td>...</td>\n",
       "      <td>...</td>\n",
       "      <td>...</td>\n",
       "      <td>...</td>\n",
       "      <td>...</td>\n",
       "      <td>...</td>\n",
       "      <td>...</td>\n",
       "      <td>...</td>\n",
       "      <td>...</td>\n",
       "      <td>...</td>\n",
       "      <td>...</td>\n",
       "      <td>...</td>\n",
       "      <td>...</td>\n",
       "      <td>...</td>\n",
       "    </tr>\n",
       "    <tr>\n",
       "      <td>296</td>\n",
       "      <td>18.63</td>\n",
       "      <td>32.86</td>\n",
       "      <td>9.05</td>\n",
       "      <td>8.07</td>\n",
       "      <td>0.087723</td>\n",
       "      <td>5.221705</td>\n",
       "      <td>92.909456</td>\n",
       "      <td>36.572890</td>\n",
       "      <td>88.172151</td>\n",
       "      <td>165.846154</td>\n",
       "      <td>...</td>\n",
       "      <td>5.040551</td>\n",
       "      <td>492.264226</td>\n",
       "      <td>2.204650</td>\n",
       "      <td>120.027468</td>\n",
       "      <td>2.104887</td>\n",
       "      <td>477.155101</td>\n",
       "      <td>0.721696</td>\n",
       "      <td>12.335160</td>\n",
       "      <td>2.797412</td>\n",
       "      <td>24.518125</td>\n",
       "    </tr>\n",
       "    <tr>\n",
       "      <td>297</td>\n",
       "      <td>44.64</td>\n",
       "      <td>51.36</td>\n",
       "      <td>10.97</td>\n",
       "      <td>7.70</td>\n",
       "      <td>0.103226</td>\n",
       "      <td>7.594045</td>\n",
       "      <td>111.833518</td>\n",
       "      <td>67.815648</td>\n",
       "      <td>96.046296</td>\n",
       "      <td>177.752988</td>\n",
       "      <td>...</td>\n",
       "      <td>2.957553</td>\n",
       "      <td>409.468268</td>\n",
       "      <td>1.759709</td>\n",
       "      <td>137.480103</td>\n",
       "      <td>1.534679</td>\n",
       "      <td>341.293172</td>\n",
       "      <td>0.050000</td>\n",
       "      <td>6.906590</td>\n",
       "      <td>2.574722</td>\n",
       "      <td>29.485308</td>\n",
       "    </tr>\n",
       "    <tr>\n",
       "      <td>298</td>\n",
       "      <td>24.21</td>\n",
       "      <td>17.44</td>\n",
       "      <td>7.07</td>\n",
       "      <td>1.36</td>\n",
       "      <td>0.081677</td>\n",
       "      <td>4.202956</td>\n",
       "      <td>71.922290</td>\n",
       "      <td>64.137192</td>\n",
       "      <td>59.583333</td>\n",
       "      <td>106.231076</td>\n",
       "      <td>...</td>\n",
       "      <td>6.143990</td>\n",
       "      <td>532.882101</td>\n",
       "      <td>4.266374</td>\n",
       "      <td>148.628378</td>\n",
       "      <td>3.420946</td>\n",
       "      <td>519.794890</td>\n",
       "      <td>0.739006</td>\n",
       "      <td>24.931578</td>\n",
       "      <td>3.221425</td>\n",
       "      <td>38.381257</td>\n",
       "    </tr>\n",
       "    <tr>\n",
       "      <td>299</td>\n",
       "      <td>27.04</td>\n",
       "      <td>28.82</td>\n",
       "      <td>5.83</td>\n",
       "      <td>1.71</td>\n",
       "      <td>0.098001</td>\n",
       "      <td>6.590365</td>\n",
       "      <td>83.979943</td>\n",
       "      <td>46.813299</td>\n",
       "      <td>81.882022</td>\n",
       "      <td>179.384615</td>\n",
       "      <td>...</td>\n",
       "      <td>5.495221</td>\n",
       "      <td>357.427763</td>\n",
       "      <td>1.970351</td>\n",
       "      <td>103.096967</td>\n",
       "      <td>1.912102</td>\n",
       "      <td>280.612557</td>\n",
       "      <td>0.581049</td>\n",
       "      <td>4.359657</td>\n",
       "      <td>3.039871</td>\n",
       "      <td>23.989705</td>\n",
       "    </tr>\n",
       "    <tr>\n",
       "      <td>300</td>\n",
       "      <td>33.27</td>\n",
       "      <td>56.09</td>\n",
       "      <td>8.35</td>\n",
       "      <td>1.30</td>\n",
       "      <td>0.085666</td>\n",
       "      <td>4.566470</td>\n",
       "      <td>97.469580</td>\n",
       "      <td>46.499464</td>\n",
       "      <td>78.833333</td>\n",
       "      <td>145.147410</td>\n",
       "      <td>...</td>\n",
       "      <td>5.094992</td>\n",
       "      <td>465.684283</td>\n",
       "      <td>2.808384</td>\n",
       "      <td>120.537993</td>\n",
       "      <td>4.282102</td>\n",
       "      <td>414.650133</td>\n",
       "      <td>0.624277</td>\n",
       "      <td>9.857485</td>\n",
       "      <td>2.632046</td>\n",
       "      <td>27.540691</td>\n",
       "    </tr>\n",
       "  </tbody>\n",
       "</table>\n",
       "<p>301 rows × 226 columns</p>\n",
       "</div>"
      ],
      "text/plain": [
       "     Carnitine  Betaine  Choline  Trimethyl-amine-N-oxide  \\\n",
       "0        35.23    40.50     9.33                     2.71   \n",
       "1        35.91    46.89    10.46                     2.31   \n",
       "2        48.71    28.48    11.26                    13.98   \n",
       "3        27.14    42.01     9.26                     3.72   \n",
       "4        33.28    35.71     9.38                     3.57   \n",
       "..         ...      ...      ...                      ...   \n",
       "296      18.63    32.86     9.05                     8.07   \n",
       "297      44.64    51.36    10.97                     7.70   \n",
       "298      24.21    17.44     7.07                     1.36   \n",
       "299      27.04    28.82     5.83                     1.71   \n",
       "300      33.27    56.09     8.35                     1.30   \n",
       "\n",
       "     Octadecenoyl-carnitine  Acetyl-carnitine    Arginine  Asparagine  \\\n",
       "0                  0.086949          6.701261  110.059331   44.344423   \n",
       "1                  0.098029          5.273254   85.136194   56.696517   \n",
       "2                  0.080647          8.379945   94.925373   42.577114   \n",
       "3                  0.059488          3.251767   57.944030   47.064677   \n",
       "4                  0.119423          6.518342   83.443980   45.204211   \n",
       "..                      ...               ...         ...         ...   \n",
       "296                0.087723          5.221705   92.909456   36.572890   \n",
       "297                0.103226          7.594045  111.833518   67.815648   \n",
       "298                0.081677          4.202956   71.922290   64.137192   \n",
       "299                0.098001          6.590365   83.979943   46.813299   \n",
       "300                0.085666          4.566470   97.469580   46.499464   \n",
       "\n",
       "     Isoleucine     Leucine  ...  penta-decylic acid  palmitic acid  \\\n",
       "0     72.906977  140.448000  ...            3.784336     746.542709   \n",
       "1     99.340596  225.818182  ...            3.493915     671.912343   \n",
       "2     93.979358  176.727273  ...            4.557437     460.166794   \n",
       "3     83.362003  149.454545  ...            3.522936     490.388798   \n",
       "4     93.180031  162.937500  ...           13.508227     797.088857   \n",
       "..          ...         ...  ...                 ...            ...   \n",
       "296   88.172151  165.846154  ...            5.040551     492.264226   \n",
       "297   96.046296  177.752988  ...            2.957553     409.468268   \n",
       "298   59.583333  106.231076  ...            6.143990     532.882101   \n",
       "299   81.882022  179.384615  ...            5.495221     357.427763   \n",
       "300   78.833333  145.147410  ...            5.094992     465.684283   \n",
       "\n",
       "     branched chain fatty acid  stearic acid  vaccenic acid  oleic acid  \\\n",
       "0                     2.387500    200.014929       1.385931  583.399009   \n",
       "1                     2.466334    187.478587       2.176561  671.346575   \n",
       "2                     2.179470    138.323814       2.830302  437.770058   \n",
       "3                     2.782658    159.723622       1.442222  615.448008   \n",
       "4                     8.367614    257.335178      13.244077  700.451721   \n",
       "..                         ...           ...            ...         ...   \n",
       "296                   2.204650    120.027468       2.104887  477.155101   \n",
       "297                   1.759709    137.480103       1.534679  341.293172   \n",
       "298                   4.266374    148.628378       3.420946  519.794890   \n",
       "299                   1.970351    103.096967       1.912102  280.612557   \n",
       "300                   2.808384    120.537993       4.282102  414.650133   \n",
       "\n",
       "     arachidic acid  linolenic acid  eicosadienoic acid        age  \n",
       "0          1.018861       12.976936            6.425830  66.368241  \n",
       "1          0.568165       14.886331            5.326137  23.644875  \n",
       "2          0.812510        9.174221            3.232012  50.986995  \n",
       "3          0.050000       11.952802            4.963583  23.368375  \n",
       "4          1.179900       16.980451            6.281183  57.310078  \n",
       "..              ...             ...                 ...        ...  \n",
       "296        0.721696       12.335160            2.797412  24.518125  \n",
       "297        0.050000        6.906590            2.574722  29.485308  \n",
       "298        0.739006       24.931578            3.221425  38.381257  \n",
       "299        0.581049        4.359657            3.039871  23.989705  \n",
       "300        0.624277        9.857485            2.632046  27.540691  \n",
       "\n",
       "[301 rows x 226 columns]"
      ]
     },
     "execution_count": 66,
     "metadata": {},
     "output_type": "execute_result"
    }
   ],
   "source": [
    "df_reduced"
   ]
  },
  {
   "cell_type": "code",
   "execution_count": null,
   "metadata": {},
   "outputs": [],
   "source": [
    "\n"
   ]
  },
  {
   "cell_type": "code",
   "execution_count": 71,
   "metadata": {},
   "outputs": [
    {
     "data": {
      "text/plain": [
       "'Diacyl-phosphatidyl-choline C42:4'"
      ]
     },
     "execution_count": 71,
     "metadata": {},
     "output_type": "execute_result"
    }
   ],
   "source": [
    "df_reduced.columns.tolist()[np.argmax(model.coef_[model.coef_ > 0])]"
   ]
  },
  {
   "cell_type": "markdown",
   "metadata": {},
   "source": [
    "## Plot the correlation"
   ]
  },
  {
   "cell_type": "code",
   "execution_count": null,
   "metadata": {},
   "outputs": [],
   "source": [
    "import seaborn as sns \n",
    "figure(figsize=(15,12))\n",
    "sns.heatmap(df_reduced.corr(),vmin=-1,vmax=1,cmap=cm.bwr)\n",
    "title('Correlation plot')"
   ]
  },
  {
   "cell_type": "code",
   "execution_count": null,
   "metadata": {},
   "outputs": [],
   "source": []
  }
 ],
 "metadata": {
  "kernelspec": {
   "display_name": "Python 3",
   "language": "python",
   "name": "python3"
  },
  "language_info": {
   "codemirror_mode": {
    "name": "ipython",
    "version": 3
   },
   "file_extension": ".py",
   "mimetype": "text/x-python",
   "name": "python",
   "nbconvert_exporter": "python",
   "pygments_lexer": "ipython3",
   "version": "3.7.4"
  }
 },
 "nbformat": 4,
 "nbformat_minor": 4
}
